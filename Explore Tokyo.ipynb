{
 "cells": [
  {
   "cell_type": "markdown",
   "metadata": {},
   "source": [
    "# Explore Best Food and Best Place in Tokyo"
   ]
  },
  {
   "cell_type": "markdown",
   "metadata": {},
   "source": [
    "## Problem and Background\n"
   ]
  },
  {
   "cell_type": "markdown",
   "metadata": {},
   "source": [
    "Tokyo, the capital of japan, is one of the most desirable places people would love to visit. A trip without visiting this legendary capital city is incomplete. The cherry blossom festival and the fall foliage attract people around all around the world. \n",
    "\n",
    "Besides gazing out from Tokyo skytree, and wrestling with sumo culture in Ryōgoku, Tokyo is also a  \"battleground\" for good food.  Ramen is a must-have in Tokyo, though you may have tried tons of ramen, Tokyo represents the cutting edge of ramen. Edomae-zushi with your personalized toppings, monjayaki - both delicious and healthy, and unaju - fresh eel served over juicy rice.\n",
    "\n",
    "In this capstone project, we are going to explore Tokyo, and have an insight of districts and restaurants across Tokyo cities, which will help visitors quickly locate and choose the place to visit and enjoy a nice meal.\n"
   ]
  },
  {
   "cell_type": "markdown",
   "metadata": {},
   "source": [
    "## Dataset"
   ]
  },
  {
   "cell_type": "markdown",
   "metadata": {},
   "source": [
    "We will use Foursquare location information to retrieve the raw data, and perform analysis by using clustering methods like one-hot encoding and k-means. \n",
    "The dataset is from https://en.wikipedia.org/wiki/Special_wards_of_Tokyo\n",
    "We will use the list of special wards table from the Wikipedia. It contains the basic information of the district name, population, density, area size, which would be the base line of our analysis.\n"
   ]
  }
 ],
 "metadata": {
  "kernelspec": {
   "display_name": "Python 3",
   "language": "python",
   "name": "python3"
  },
  "language_info": {
   "codemirror_mode": {
    "name": "ipython",
    "version": 3
   },
   "file_extension": ".py",
   "mimetype": "text/x-python",
   "name": "python",
   "nbconvert_exporter": "python",
   "pygments_lexer": "ipython3",
   "version": "3.7.4"
  }
 },
 "nbformat": 4,
 "nbformat_minor": 2
}
